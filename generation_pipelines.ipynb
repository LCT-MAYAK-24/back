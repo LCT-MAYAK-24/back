{
 "cells": [
  {
   "cell_type": "code",
   "execution_count": 1,
   "metadata": {},
   "outputs": [
    {
     "name": "stdout",
     "output_type": "stream",
     "text": [
      "Requirement already satisfied: transformers in /Users/ilya/miniconda3/lib/python3.11/site-packages (4.39.1)\n",
      "Requirement already satisfied: filelock in /Users/ilya/miniconda3/lib/python3.11/site-packages (from transformers) (3.13.3)\n",
      "Requirement already satisfied: huggingface-hub<1.0,>=0.19.3 in /Users/ilya/miniconda3/lib/python3.11/site-packages (from transformers) (0.22.0)\n",
      "Requirement already satisfied: numpy>=1.17 in /Users/ilya/miniconda3/lib/python3.11/site-packages (from transformers) (1.25.2)\n",
      "Requirement already satisfied: packaging>=20.0 in /Users/ilya/miniconda3/lib/python3.11/site-packages (from transformers) (23.0)\n",
      "Requirement already satisfied: pyyaml>=5.1 in /Users/ilya/miniconda3/lib/python3.11/site-packages (from transformers) (6.0.1)\n",
      "Requirement already satisfied: regex!=2019.12.17 in /Users/ilya/miniconda3/lib/python3.11/site-packages (from transformers) (2023.12.25)\n",
      "Requirement already satisfied: requests in /Users/ilya/miniconda3/lib/python3.11/site-packages (from transformers) (2.29.0)\n",
      "Requirement already satisfied: tokenizers<0.19,>=0.14 in /Users/ilya/miniconda3/lib/python3.11/site-packages (from transformers) (0.15.2)\n",
      "Requirement already satisfied: safetensors>=0.4.1 in /Users/ilya/miniconda3/lib/python3.11/site-packages (from transformers) (0.4.2)\n",
      "Requirement already satisfied: tqdm>=4.27 in /Users/ilya/miniconda3/lib/python3.11/site-packages (from transformers) (4.65.0)\n",
      "Requirement already satisfied: fsspec>=2023.5.0 in /Users/ilya/miniconda3/lib/python3.11/site-packages (from huggingface-hub<1.0,>=0.19.3->transformers) (2024.3.1)\n",
      "Requirement already satisfied: typing-extensions>=3.7.4.3 in /Users/ilya/miniconda3/lib/python3.11/site-packages (from huggingface-hub<1.0,>=0.19.3->transformers) (4.8.0)\n",
      "Requirement already satisfied: charset-normalizer<4,>=2 in /Users/ilya/miniconda3/lib/python3.11/site-packages (from requests->transformers) (2.0.4)\n",
      "Requirement already satisfied: idna<4,>=2.5 in /Users/ilya/miniconda3/lib/python3.11/site-packages (from requests->transformers) (3.4)\n",
      "Requirement already satisfied: urllib3<1.27,>=1.21.1 in /Users/ilya/miniconda3/lib/python3.11/site-packages (from requests->transformers) (1.26.16)\n",
      "Requirement already satisfied: certifi>=2017.4.17 in /Users/ilya/miniconda3/lib/python3.11/site-packages (from requests->transformers) (2023.5.7)\n"
     ]
    }
   ],
   "source": [
    "!pip install transformers"
   ]
  },
  {
   "cell_type": "code",
   "execution_count": 2,
   "metadata": {},
   "outputs": [
    {
     "name": "stdout",
     "output_type": "stream",
     "text": [
      "Requirement already satisfied: torch in /Users/ilya/miniconda3/lib/python3.11/site-packages (2.2.1)\n",
      "Requirement already satisfied: filelock in /Users/ilya/miniconda3/lib/python3.11/site-packages (from torch) (3.13.3)\n",
      "Requirement already satisfied: typing-extensions>=4.8.0 in /Users/ilya/miniconda3/lib/python3.11/site-packages (from torch) (4.8.0)\n",
      "Requirement already satisfied: sympy in /Users/ilya/miniconda3/lib/python3.11/site-packages (from torch) (1.12)\n",
      "Requirement already satisfied: networkx in /Users/ilya/miniconda3/lib/python3.11/site-packages (from torch) (3.2.1)\n",
      "Requirement already satisfied: jinja2 in /Users/ilya/miniconda3/lib/python3.11/site-packages (from torch) (3.1.3)\n",
      "Requirement already satisfied: fsspec in /Users/ilya/miniconda3/lib/python3.11/site-packages (from torch) (2024.3.1)\n",
      "Requirement already satisfied: MarkupSafe>=2.0 in /Users/ilya/miniconda3/lib/python3.11/site-packages (from jinja2->torch) (2.1.5)\n",
      "Requirement already satisfied: mpmath>=0.19 in /Users/ilya/miniconda3/lib/python3.11/site-packages (from sympy->torch) (1.3.0)\n"
     ]
    }
   ],
   "source": [
    "!pip install torch"
   ]
  },
  {
   "cell_type": "code",
   "execution_count": 27,
   "metadata": {},
   "outputs": [],
   "source": [
    "from transformers import AutoTokenizer, AutoModel\n",
    "import torch\n",
    "\n",
    "\n",
    "#Mean Pooling - Take attention mask into account for correct averaging\n",
    "def mean_pooling(model_output, attention_mask):\n",
    "    token_embeddings = model_output[0] #First element of model_output contains all token embeddings\n",
    "    input_mask_expanded = attention_mask.unsqueeze(-1).expand(token_embeddings.size()).float()\n",
    "    sum_embeddings = torch.sum(token_embeddings * input_mask_expanded, 1)\n",
    "    sum_mask = torch.clamp(input_mask_expanded.sum(1), min=1e-9)\n",
    "    return sum_embeddings / sum_mask\n",
    "\n",
    "\n",
    "\n",
    "#Sentences we want sentence embeddings for\n",
    "sentences = ['Привет! Как твои дела?',\n",
    "             'А правда, что 42 твое любимое число?']\n",
    "\n",
    "#Load AutoModel from huggingface model repository\n",
    "tokenizer = AutoTokenizer.from_pretrained(\"ai-forever/sbert_large_nlu_ru\")\n",
    "model = AutoModel.from_pretrained(\"ai-forever/sbert_large_nlu_ru\")\n",
    "\n",
    "def embeddings_inference(sentence):\n",
    "    encoded_input = tokenizer(sentence, padding=True, truncation=True, max_length=24, return_tensors='pt')\n",
    "    with torch.no_grad():\n",
    "        model_output = model(**encoded_input)\n",
    "\n",
    "    return mean_pooling(model_output, encoded_input['attention_mask'])[0]\n"
   ]
  },
  {
   "cell_type": "code",
   "execution_count": 293,
   "metadata": {},
   "outputs": [],
   "source": [
    "import pandas as pd\n",
    "import json\n",
    "\n",
    "with open('items.json', 'rb') as file:\n",
    "    data = json.load(file)"
   ]
  },
  {
   "cell_type": "code",
   "execution_count": 294,
   "metadata": {},
   "outputs": [],
   "source": [
    "data = data['result']"
   ]
  },
  {
   "cell_type": "code",
   "execution_count": 295,
   "metadata": {},
   "outputs": [],
   "source": [
    "content_df = pd.DataFrame(data)"
   ]
  },
  {
   "cell_type": "code",
   "execution_count": 22,
   "metadata": {},
   "outputs": [],
   "source": [
    "from bs4 import BeautifulSoup\n",
    "\n",
    "df['description'] = df['description'].map(lambda x: BeautifulSoup(x).text)"
   ]
  },
  {
   "cell_type": "code",
   "execution_count": 30,
   "metadata": {},
   "outputs": [
    {
     "name": "stdout",
     "output_type": "stream",
     "text": [
      "0\n",
      "100\n",
      "200\n",
      "300\n",
      "400\n",
      "500\n",
      "600\n",
      "700\n",
      "800\n",
      "900\n",
      "1000\n",
      "1100\n",
      "1200\n",
      "1300\n",
      "1400\n",
      "1500\n",
      "1600\n",
      "1700\n",
      "1800\n",
      "1900\n",
      "2000\n",
      "2100\n",
      "2200\n",
      "2300\n",
      "2400\n",
      "2500\n",
      "2600\n",
      "2700\n",
      "2800\n",
      "2900\n",
      "3000\n",
      "3100\n",
      "3200\n",
      "3300\n",
      "3400\n",
      "3500\n",
      "3600\n",
      "3700\n",
      "3800\n",
      "3900\n",
      "4000\n",
      "4100\n",
      "4200\n",
      "4300\n",
      "4400\n",
      "4500\n",
      "4600\n",
      "4700\n",
      "4800\n",
      "4900\n",
      "5000\n",
      "5100\n",
      "5200\n",
      "5300\n",
      "5400\n",
      "5500\n",
      "5600\n",
      "5700\n",
      "5800\n",
      "5900\n",
      "6000\n",
      "6100\n",
      "6200\n",
      "6300\n",
      "6400\n",
      "6500\n",
      "6600\n",
      "6700\n",
      "6800\n",
      "6900\n",
      "7000\n",
      "7100\n",
      "7200\n",
      "7300\n",
      "7400\n",
      "7500\n",
      "7600\n",
      "7700\n",
      "7800\n",
      "7900\n",
      "8000\n",
      "8100\n",
      "8200\n",
      "8300\n",
      "8400\n",
      "8500\n",
      "8600\n",
      "8700\n",
      "8800\n",
      "8900\n",
      "9000\n",
      "9100\n",
      "9200\n",
      "9300\n",
      "9400\n",
      "9500\n",
      "9600\n",
      "9700\n",
      "9800\n",
      "9900\n",
      "10000\n",
      "10100\n",
      "10200\n",
      "10300\n",
      "10400\n",
      "10500\n",
      "10600\n",
      "10700\n",
      "10800\n",
      "10900\n",
      "11000\n",
      "11100\n",
      "11200\n",
      "11300\n",
      "11400\n",
      "11500\n",
      "11600\n",
      "11700\n",
      "11800\n",
      "11900\n",
      "12000\n",
      "12100\n",
      "12200\n",
      "12300\n",
      "12400\n",
      "12500\n",
      "12600\n",
      "12700\n",
      "12800\n",
      "12900\n",
      "13000\n",
      "13100\n",
      "13200\n",
      "13300\n",
      "13400\n",
      "13500\n",
      "13600\n",
      "13700\n",
      "13800\n",
      "13900\n",
      "14000\n",
      "14100\n",
      "14200\n",
      "14300\n",
      "14400\n",
      "14500\n",
      "14600\n",
      "14700\n",
      "14800\n",
      "14900\n",
      "15000\n",
      "15100\n",
      "15200\n",
      "15300\n",
      "15400\n",
      "15500\n",
      "15600\n",
      "15700\n",
      "15800\n",
      "15900\n",
      "16000\n",
      "16100\n",
      "16200\n",
      "16300\n",
      "16400\n",
      "16500\n",
      "16600\n",
      "16700\n",
      "16800\n",
      "16900\n",
      "17000\n",
      "17100\n",
      "17200\n",
      "17300\n",
      "17400\n",
      "17500\n",
      "17600\n",
      "17700\n",
      "17800\n",
      "17900\n",
      "18000\n",
      "18100\n",
      "18200\n",
      "18300\n",
      "18400\n",
      "18500\n",
      "18600\n",
      "18700\n",
      "18800\n",
      "18900\n",
      "19000\n",
      "19100\n",
      "19200\n",
      "19300\n",
      "19400\n",
      "19500\n",
      "19600\n",
      "19700\n",
      "19800\n",
      "19900\n",
      "20000\n",
      "20100\n",
      "20200\n",
      "20300\n",
      "20400\n",
      "20500\n",
      "20600\n",
      "20700\n",
      "20800\n",
      "20900\n",
      "21000\n",
      "21100\n",
      "21200\n",
      "21300\n",
      "21400\n",
      "21500\n",
      "21600\n"
     ]
    }
   ],
   "source": [
    "embeddings = []\n",
    "for i, description in enumerate(df['description']):\n",
    "    embeddings.append(embeddings_inference(description))\n",
    "\n",
    "    if i % 100 == 0:\n",
    "        print(i)"
   ]
  },
  {
   "cell_type": "code",
   "execution_count": 31,
   "metadata": {},
   "outputs": [],
   "source": [
    "s = pd.Series(embeddings)"
   ]
  },
  {
   "cell_type": "code",
   "execution_count": 33,
   "metadata": {},
   "outputs": [],
   "source": [
    "df['embeddings'] = s"
   ]
  },
  {
   "cell_type": "code",
   "execution_count": 296,
   "metadata": {},
   "outputs": [],
   "source": [
    "content_df['id'] = content_df['id'].map(lambda x: content_item_to_id[x])"
   ]
  },
  {
   "cell_type": "code",
   "execution_count": 263,
   "metadata": {},
   "outputs": [],
   "source": [
    "from annoy import AnnoyIndex\n",
    "\n",
    "index = AnnoyIndex(1024, 'angular')\n",
    "\n",
    "item_to_id = dict()\n",
    "\n",
    "for i, item in enumerate(df.to_dict(orient='records')):\n",
    "    item_to_id.update({item['id']: i})\n",
    "    # index.add_item(i, item['embeddings'])\n"
   ]
  },
  {
   "cell_type": "code",
   "execution_count": 52,
   "metadata": {},
   "outputs": [
    {
     "data": {
      "text/plain": [
       "[0, 4685, 4795, 4898, 5881, 5278, 5637, 11196, 5323, 5132]"
      ]
     },
     "execution_count": 52,
     "metadata": {},
     "output_type": "execute_result"
    }
   ],
   "source": [
    "index.get_nns_by_item(0, 10)"
   ]
  },
  {
   "cell_type": "code",
   "execution_count": 265,
   "metadata": {},
   "outputs": [],
   "source": [
    "content_item_to_id = item_to_id"
   ]
  },
  {
   "cell_type": "code",
   "execution_count": 59,
   "metadata": {},
   "outputs": [
    {
     "data": {
      "text/plain": [
       "True"
      ]
     },
     "execution_count": 59,
     "metadata": {},
     "output_type": "execute_result"
    }
   ],
   "source": [
    "index.save('./models/generate/content/index.ann')"
   ]
  },
  {
   "cell_type": "code",
   "execution_count": 61,
   "metadata": {},
   "outputs": [],
   "source": [
    "import pickle\n",
    "with open('./models/generate/content/index_to_id.pickle', 'wb') as file:\n",
    "    pickle.dump(item_to_id, file)"
   ]
  },
  {
   "cell_type": "code",
   "execution_count": 62,
   "metadata": {},
   "outputs": [],
   "source": [
    "with open('./models/generate/content/dataset.pickle', 'wb') as file:\n",
    "    pickle.dump(df, file)"
   ]
  },
  {
   "cell_type": "code",
   "execution_count": 63,
   "metadata": {},
   "outputs": [
    {
     "name": "stderr",
     "output_type": "stream",
     "text": [
      "huggingface/tokenizers: The current process just got forked, after parallelism has already been used. Disabling parallelism to avoid deadlocks...\n",
      "To disable this warning, you can either:\n",
      "\t- Avoid using `tokenizers` before the fork if possible\n",
      "\t- Explicitly set the environment variable TOKENIZERS_PARALLELISM=(true | false)\n"
     ]
    },
    {
     "name": "stdout",
     "output_type": "stream",
     "text": [
      "Collecting implicit\n",
      "  Downloading implicit-0.7.2-cp311-cp311-macosx_11_0_arm64.whl (761 kB)\n",
      "\u001b[2K     \u001b[90m━━━━━━━━━━━━━━━━━━━━━━━━━━━━━━━━━━━━━━━\u001b[0m \u001b[32m761.6/761.6 kB\u001b[0m \u001b[31m1.2 MB/s\u001b[0m eta \u001b[36m0:00:00\u001b[0m00:01\u001b[0m00:01\u001b[0m\n",
      "\u001b[?25hRequirement already satisfied: numpy>=1.17.0 in /Users/ilya/miniconda3/lib/python3.11/site-packages (from implicit) (1.25.2)\n",
      "Collecting scipy>=0.16 (from implicit)\n",
      "  Using cached scipy-1.12.0-cp311-cp311-macosx_12_0_arm64.whl (31.4 MB)\n",
      "Requirement already satisfied: tqdm>=4.27 in /Users/ilya/miniconda3/lib/python3.11/site-packages (from implicit) (4.65.0)\n",
      "Collecting threadpoolctl (from implicit)\n",
      "  Downloading threadpoolctl-3.4.0-py3-none-any.whl (17 kB)\n",
      "Installing collected packages: threadpoolctl, scipy, implicit\n",
      "Successfully installed implicit-0.7.2 scipy-1.12.0 threadpoolctl-3.4.0\n"
     ]
    }
   ],
   "source": [
    "!pip install implicit"
   ]
  },
  {
   "cell_type": "code",
   "execution_count": 266,
   "metadata": {},
   "outputs": [],
   "source": [
    "from scipy.sparse import csr_matrix\n",
    "\n",
    "user_to_id = dict()\n",
    "\n",
    "with open('users.json', 'rb') as file:\n",
    "    users = json.load(file)['result']\n",
    "\n",
    "    for i, user in enumerate(users):\n",
    "        user_to_id.update({user['id']: i})\n"
   ]
  },
  {
   "cell_type": "code",
   "execution_count": 267,
   "metadata": {},
   "outputs": [],
   "source": [
    "with open('relations.json', 'rb') as file:\n",
    "    df = pd.DataFrame(json.load(file)['result'])"
   ]
  },
  {
   "cell_type": "code",
   "execution_count": 268,
   "metadata": {},
   "outputs": [],
   "source": [
    "df = df[df.status == 'FINISHED']"
   ]
  },
  {
   "cell_type": "code",
   "execution_count": 269,
   "metadata": {},
   "outputs": [],
   "source": [
    "df = df.sort_values('date_create')"
   ]
  },
  {
   "cell_type": "code",
   "execution_count": 270,
   "metadata": {},
   "outputs": [],
   "source": [
    "import datetime\n",
    "\n",
    "df['date_create'] = pd.to_datetime(df['date_create'])"
   ]
  },
  {
   "cell_type": "code",
   "execution_count": 271,
   "metadata": {},
   "outputs": [
    {
     "data": {
      "text/plain": [
       "Timedelta('485 days 18:30:41.542000')"
      ]
     },
     "execution_count": 271,
     "metadata": {},
     "output_type": "execute_result"
    }
   ],
   "source": [
    "list(df['date_create'])[-1] - df['date_create'][0]"
   ]
  },
  {
   "cell_type": "code",
   "execution_count": 145,
   "metadata": {},
   "outputs": [
    {
     "data": {
      "text/plain": [
       "<Axes: xlabel='date_create,date_create,date_create'>"
      ]
     },
     "execution_count": 145,
     "metadata": {},
     "output_type": "execute_result"
    },
    {
     "data": {
      "image/png": "[encoded data removed]",
      "text/plain": [
       "<Figure size 640x480 with 1 Axes>"
      ]
     },
     "metadata": {},
     "output_type": "display_data"
    }
   ],
   "source": [
    "df[df.date_create.dt.date>=datetime.date(2023, 5, 1)]['date_create'].groupby([df[\"date_create\"].dt.year, df[\"date_create\"].dt.month, df['date_create'].dt.day]).count().plot(kind='bar')"
   ]
  },
  {
   "cell_type": "code",
   "execution_count": 285,
   "metadata": {},
   "outputs": [],
   "source": [
    "ids = set(list(df['client_id']))\n",
    "user_to_id = dict()\n",
    "\n",
    "for i, user in enumerate(ids):\n",
    "    user_to_id.update({user: i})\n",
    "\n",
    "df['client_id'] = df['client_id'].map(lambda x: user_to_id[x])"
   ]
  },
  {
   "cell_type": "code",
   "execution_count": 273,
   "metadata": {},
   "outputs": [],
   "source": [
    "df = df[df.external_Id.isin(content_item_to_id.keys())]\n",
    "\n",
    "df['external_Id'] = df['external_Id'].map(lambda x: content_item_to_id[x])"
   ]
  },
  {
   "cell_type": "code",
   "execution_count": 274,
   "metadata": {},
   "outputs": [
    {
     "data": {
      "text/html": [
       "<div>\n",
       "<style scoped>\n",
       "    .dataframe tbody tr th:only-of-type {\n",
       "        vertical-align: middle;\n",
       "    }\n",
       "\n",
       "    .dataframe tbody tr th {\n",
       "        vertical-align: top;\n",
       "    }\n",
       "\n",
       "    .dataframe thead th {\n",
       "        text-align: right;\n",
       "    }\n",
       "</style>\n",
       "<table border=\"1\" class=\"dataframe\">\n",
       "  <thead>\n",
       "    <tr style=\"text-align: right;\">\n",
       "      <th></th>\n",
       "      <th>id</th>\n",
       "      <th>external_Id</th>\n",
       "      <th>supplier_id</th>\n",
       "      <th>tariff_id</th>\n",
       "      <th>client_id</th>\n",
       "      <th>status</th>\n",
       "      <th>tickets_count</th>\n",
       "      <th>date_create</th>\n",
       "      <th>activeSince</th>\n",
       "      <th>activeUntil</th>\n",
       "      <th>product_type_code</th>\n",
       "    </tr>\n",
       "  </thead>\n",
       "  <tbody>\n",
       "    <tr>\n",
       "      <th>10972</th>\n",
       "      <td>32702</td>\n",
       "      <td>961</td>\n",
       "      <td>-1</td>\n",
       "      <td>6516</td>\n",
       "      <td>2600</td>\n",
       "      <td>FINISHED</td>\n",
       "      <td>1</td>\n",
       "      <td>2020-07-02 10:26:08.008000+00:00</td>\n",
       "      <td></td>\n",
       "      <td></td>\n",
       "      <td>EVENT</td>\n",
       "    </tr>\n",
       "    <tr>\n",
       "      <th>10971</th>\n",
       "      <td>32703</td>\n",
       "      <td>961</td>\n",
       "      <td>-1</td>\n",
       "      <td>6612</td>\n",
       "      <td>2600</td>\n",
       "      <td>FINISHED</td>\n",
       "      <td>3</td>\n",
       "      <td>2020-07-02 10:35:26.375000+00:00</td>\n",
       "      <td></td>\n",
       "      <td></td>\n",
       "      <td>EVENT</td>\n",
       "    </tr>\n",
       "    <tr>\n",
       "      <th>10969</th>\n",
       "      <td>32607</td>\n",
       "      <td>181</td>\n",
       "      <td>-1</td>\n",
       "      <td>6606</td>\n",
       "      <td>2600</td>\n",
       "      <td>FINISHED</td>\n",
       "      <td>2</td>\n",
       "      <td>2020-07-02 11:08:31.087000+00:00</td>\n",
       "      <td></td>\n",
       "      <td></td>\n",
       "      <td>EVENT</td>\n",
       "    </tr>\n",
       "    <tr>\n",
       "      <th>10943</th>\n",
       "      <td>32620</td>\n",
       "      <td>181</td>\n",
       "      <td>-1</td>\n",
       "      <td>6605</td>\n",
       "      <td>801</td>\n",
       "      <td>FINISHED</td>\n",
       "      <td>2</td>\n",
       "      <td>2020-07-02 15:50:29.719000+00:00</td>\n",
       "      <td></td>\n",
       "      <td></td>\n",
       "      <td></td>\n",
       "    </tr>\n",
       "    <tr>\n",
       "      <th>10942</th>\n",
       "      <td>32621</td>\n",
       "      <td>181</td>\n",
       "      <td>-1</td>\n",
       "      <td>6604</td>\n",
       "      <td>2600</td>\n",
       "      <td>FINISHED</td>\n",
       "      <td>8</td>\n",
       "      <td>2020-07-02 16:10:06.308000+00:00</td>\n",
       "      <td></td>\n",
       "      <td></td>\n",
       "      <td></td>\n",
       "    </tr>\n",
       "    <tr>\n",
       "      <th>...</th>\n",
       "      <td>...</td>\n",
       "      <td>...</td>\n",
       "      <td>...</td>\n",
       "      <td>...</td>\n",
       "      <td>...</td>\n",
       "      <td>...</td>\n",
       "      <td>...</td>\n",
       "      <td>...</td>\n",
       "      <td>...</td>\n",
       "      <td>...</td>\n",
       "      <td>...</td>\n",
       "    </tr>\n",
       "    <tr>\n",
       "      <th>104514</th>\n",
       "      <td>42946457</td>\n",
       "      <td>17460</td>\n",
       "      <td>44153</td>\n",
       "      <td>52954</td>\n",
       "      <td>26108623</td>\n",
       "      <td>FINISHED</td>\n",
       "      <td>1</td>\n",
       "      <td>2023-08-25 03:34:45.965000+00:00</td>\n",
       "      <td>2023-08-31T16:30:00+03:00</td>\n",
       "      <td>2023-08-31T18:00:00+03:00</td>\n",
       "      <td>PROMO_EXCURSION</td>\n",
       "    </tr>\n",
       "    <tr>\n",
       "      <th>104513</th>\n",
       "      <td>42946458</td>\n",
       "      <td>620</td>\n",
       "      <td>32815</td>\n",
       "      <td>55100</td>\n",
       "      <td>26108624</td>\n",
       "      <td>FINISHED</td>\n",
       "      <td>1</td>\n",
       "      <td>2023-08-25 03:57:08.433000+00:00</td>\n",
       "      <td>2023-08-25T10:00:00+03:00</td>\n",
       "      <td>2023-08-25T10:00:00+03:00</td>\n",
       "      <td></td>\n",
       "    </tr>\n",
       "    <tr>\n",
       "      <th>104510</th>\n",
       "      <td>42946461</td>\n",
       "      <td>66</td>\n",
       "      <td>10110</td>\n",
       "      <td>55006</td>\n",
       "      <td>26108627</td>\n",
       "      <td>FINISHED</td>\n",
       "      <td>4</td>\n",
       "      <td>2023-08-25 04:15:09.607000+00:00</td>\n",
       "      <td>2023-08-27T07:30:00+03:00</td>\n",
       "      <td>2023-08-27T20:00:00+03:00</td>\n",
       "      <td></td>\n",
       "    </tr>\n",
       "    <tr>\n",
       "      <th>104509</th>\n",
       "      <td>42946462</td>\n",
       "      <td>66</td>\n",
       "      <td>10110</td>\n",
       "      <td>55006</td>\n",
       "      <td>26108628</td>\n",
       "      <td>FINISHED</td>\n",
       "      <td>2</td>\n",
       "      <td>2023-08-25 04:15:57.181000+00:00</td>\n",
       "      <td>2023-08-25T07:30:00+03:00</td>\n",
       "      <td>2023-08-25T20:00:00+03:00</td>\n",
       "      <td></td>\n",
       "    </tr>\n",
       "    <tr>\n",
       "      <th>104507</th>\n",
       "      <td>42946464</td>\n",
       "      <td>21244</td>\n",
       "      <td>44153</td>\n",
       "      <td>55040</td>\n",
       "      <td>26097892</td>\n",
       "      <td>FINISHED</td>\n",
       "      <td>2</td>\n",
       "      <td>2023-08-25 04:26:08.696000+00:00</td>\n",
       "      <td>2023-09-08T17:00:00+03:00</td>\n",
       "      <td>2023-09-08T18:00:00+03:00</td>\n",
       "      <td>PROMO_EXCURSION</td>\n",
       "    </tr>\n",
       "  </tbody>\n",
       "</table>\n",
       "<p>37133 rows × 11 columns</p>\n",
       "</div>"
      ],
      "text/plain": [
       "              id  external_Id  supplier_id  tariff_id  client_id    status  \\\n",
       "10972      32702          961           -1       6516       2600  FINISHED   \n",
       "10971      32703          961           -1       6612       2600  FINISHED   \n",
       "10969      32607          181           -1       6606       2600  FINISHED   \n",
       "10943      32620          181           -1       6605        801  FINISHED   \n",
       "10942      32621          181           -1       6604       2600  FINISHED   \n",
       "...          ...          ...          ...        ...        ...       ...   \n",
       "104514  42946457        17460        44153      52954   26108623  FINISHED   \n",
       "104513  42946458          620        32815      55100   26108624  FINISHED   \n",
       "104510  42946461           66        10110      55006   26108627  FINISHED   \n",
       "104509  42946462           66        10110      55006   26108628  FINISHED   \n",
       "104507  42946464        21244        44153      55040   26097892  FINISHED   \n",
       "\n",
       "        tickets_count                      date_create  \\\n",
       "10972               1 2020-07-02 10:26:08.008000+00:00   \n",
       "10971               3 2020-07-02 10:35:26.375000+00:00   \n",
       "10969               2 2020-07-02 11:08:31.087000+00:00   \n",
       "10943               2 2020-07-02 15:50:29.719000+00:00   \n",
       "10942               8 2020-07-02 16:10:06.308000+00:00   \n",
       "...               ...                              ...   \n",
       "104514              1 2023-08-25 03:34:45.965000+00:00   \n",
       "104513              1 2023-08-25 03:57:08.433000+00:00   \n",
       "104510              4 2023-08-25 04:15:09.607000+00:00   \n",
       "104509              2 2023-08-25 04:15:57.181000+00:00   \n",
       "104507              2 2023-08-25 04:26:08.696000+00:00   \n",
       "\n",
       "                      activeSince                activeUntil product_type_code  \n",
       "10972                                                                    EVENT  \n",
       "10971                                                                    EVENT  \n",
       "10969                                                                    EVENT  \n",
       "10943                                                                           \n",
       "10942                                                                           \n",
       "...                           ...                        ...               ...  \n",
       "104514  2023-08-31T16:30:00+03:00  2023-08-31T18:00:00+03:00   PROMO_EXCURSION  \n",
       "104513  2023-08-25T10:00:00+03:00  2023-08-25T10:00:00+03:00                    \n",
       "104510  2023-08-27T07:30:00+03:00  2023-08-27T20:00:00+03:00                    \n",
       "104509  2023-08-25T07:30:00+03:00  2023-08-25T20:00:00+03:00                    \n",
       "104507  2023-09-08T17:00:00+03:00  2023-09-08T18:00:00+03:00   PROMO_EXCURSION  \n",
       "\n",
       "[37133 rows x 11 columns]"
      ]
     },
     "execution_count": 274,
     "metadata": {},
     "output_type": "execute_result"
    }
   ],
   "source": [
    "df"
   ]
  },
  {
   "cell_type": "code",
   "execution_count": 286,
   "metadata": {},
   "outputs": [
    {
     "name": "stdout",
     "output_type": "stream",
     "text": [
      "int64 int64 int64\n"
     ]
    }
   ],
   "source": [
    "import numpy as np\n",
    "from scipy.sparse import coo_matrix\n",
    "\n",
    "client_ids = np.array(list(df['client_id'].map(int)), dtype=int)\n",
    "items_ids = np.array(list(df['external_Id'].map(int)), dtype=int)\n",
    "weights = np.array([1 for _ in range(len(items_ids))])\n",
    "\n",
    "print(client_ids.dtype, items_ids.dtype, weights.dtype)\n",
    "\n",
    "matrix = coo_matrix((weights, (client_ids, items_ids)))"
   ]
  },
  {
   "cell_type": "code",
   "execution_count": 287,
   "metadata": {},
   "outputs": [
    {
     "data": {
      "text/plain": [
       "<30974x21636 sparse matrix of type '<class 'numpy.int64'>'\n",
       "\twith 37133 stored elements in COOrdinate format>"
      ]
     },
     "execution_count": 287,
     "metadata": {},
     "output_type": "execute_result"
    }
   ],
   "source": [
    "matrix"
   ]
  },
  {
   "cell_type": "code",
   "execution_count": 288,
   "metadata": {},
   "outputs": [
    {
     "name": "stderr",
     "output_type": "stream",
     "text": [
      "/Library/Frameworks/Python.framework/Versions/3.11/lib/python3.11/site-packages/implicit/utils.py:164: ParameterWarning: Method expects CSR input, and was passed coo_matrix instead. Converting to CSR took 0.0005908012390136719 seconds\n",
      "  warnings.warn(\n"
     ]
    },
    {
     "data": {
      "application/vnd.jupyter.widget-view+json": {
       "model_id": "2e3513ba36cb4faaba35773e55b5581a",
       "version_major": 2,
       "version_minor": 0
      },
      "text/plain": [
       "  0%|          | 0/15 [00:00<?, ?it/s]"
      ]
     },
     "metadata": {},
     "output_type": "display_data"
    }
   ],
   "source": [
    "import implicit\n",
    "\n",
    "model = implicit.als.AlternatingLeastSquares(factors=50)\n",
    "\n",
    "model.fit(matrix)\n"
   ]
  },
  {
   "cell_type": "code",
   "execution_count": 301,
   "metadata": {},
   "outputs": [
    {
     "data": {
      "text/plain": [
       "(              id  external_Id  supplier_id  tariff_id  client_id    status  \\\n",
       " 100817  42942392        20950        44153      54884          1  FINISHED   \n",
       " \n",
       "         tickets_count                      date_create  \\\n",
       " 100817              5 2023-08-21 09:08:45.154000+00:00   \n",
       " \n",
       "                       activeSince                activeUntil product_type_code  \n",
       " 100817  2023-08-31T19:00:00+03:00  2023-08-31T20:30:00+03:00   PROMO_EXCURSION  ,\n",
       "           id                                     titlte  \\\n",
       " 20950  20950  Цирковой дивертисмент «Улочки московские»   \n",
       " \n",
       "                                              description     screen  \\\n",
       " 20950  <p>«Улочки московские» — цирковой дивертисмент...  excursion   \n",
       " \n",
       "       coordinates  \n",
       " 20950         NaN  )"
      ]
     },
     "execution_count": 301,
     "metadata": {},
     "output_type": "execute_result"
    }
   ],
   "source": [
    "df[df.client_id==1], content_df[content_df.id==20950]"
   ]
  },
  {
   "cell_type": "code",
   "execution_count": 304,
   "metadata": {},
   "outputs": [
    {
     "name": "stdout",
     "output_type": "stream",
     "text": [
      "[1370 2223 3487    0  885 2131  261   70 4172 2385]\n"
     ]
    },
    {
     "data": {
      "text/html": [
       "<div>\n",
       "<style scoped>\n",
       "    .dataframe tbody tr th:only-of-type {\n",
       "        vertical-align: middle;\n",
       "    }\n",
       "\n",
       "    .dataframe tbody tr th {\n",
       "        vertical-align: top;\n",
       "    }\n",
       "\n",
       "    .dataframe thead th {\n",
       "        text-align: right;\n",
       "    }\n",
       "</style>\n",
       "<table border=\"1\" class=\"dataframe\">\n",
       "  <thead>\n",
       "    <tr style=\"text-align: right;\">\n",
       "      <th></th>\n",
       "      <th>id</th>\n",
       "      <th>titlte</th>\n",
       "      <th>description</th>\n",
       "      <th>screen</th>\n",
       "      <th>coordinates</th>\n",
       "    </tr>\n",
       "  </thead>\n",
       "  <tbody>\n",
       "    <tr>\n",
       "      <th>0</th>\n",
       "      <td>0</td>\n",
       "      <td>Ресторан «The Сад»</td>\n",
       "      <td>&lt;p&gt;Ресторан «The Сад» славится своей субтропич...</td>\n",
       "      <td>restaurant</td>\n",
       "      <td>NaN</td>\n",
       "    </tr>\n",
       "    <tr>\n",
       "      <th>70</th>\n",
       "      <td>70</td>\n",
       "      <td>Ресторан AQ Kitchen</td>\n",
       "      <td>&lt;p&gt;Авторский проект испанского шеф-повара Адри...</td>\n",
       "      <td>restaurant</td>\n",
       "      <td>NaN</td>\n",
       "    </tr>\n",
       "    <tr>\n",
       "      <th>261</th>\n",
       "      <td>261</td>\n",
       "      <td>Центр «Космонавтика и авиация» на ВДНХ</td>\n",
       "      <td>&lt;p&gt;Павильон, в котором любил бывать Юрий Гагар...</td>\n",
       "      <td>event</td>\n",
       "      <td>{'lng': 37.62194444047548, 'lat': 55.835006175...</td>\n",
       "    </tr>\n",
       "    <tr>\n",
       "      <th>885</th>\n",
       "      <td>885</td>\n",
       "      <td>Музей кино</td>\n",
       "      <td>&lt;p&gt;В Музее кино хранятся костюмы и реквизит из...</td>\n",
       "      <td>event</td>\n",
       "      <td>{'lng': 37.6167905, 'lat': 55.83964349999999}</td>\n",
       "    </tr>\n",
       "    <tr>\n",
       "      <th>1370</th>\n",
       "      <td>1370</td>\n",
       "      <td>Смотровая площадка «Выше только любовь»</td>\n",
       "      <td>&lt;p&gt;Находится на высоте 354 метров, обгоняя Ост...</td>\n",
       "      <td>event</td>\n",
       "      <td>{'lng': 37.5343747, 'lat': 55.7499443}</td>\n",
       "    </tr>\n",
       "    <tr>\n",
       "      <th>2131</th>\n",
       "      <td>2131</td>\n",
       "      <td>Кафе «Спецбуфет особого назначения»</td>\n",
       "      <td>&lt;p&gt;Кафе располагается в «Гараже особого назнач...</td>\n",
       "      <td>restaurant</td>\n",
       "      <td>NaN</td>\n",
       "    </tr>\n",
       "    <tr>\n",
       "      <th>2223</th>\n",
       "      <td>2223</td>\n",
       "      <td>Флорариум</td>\n",
       "      <td>&lt;p&gt;Оранжерейный комплекс парка — это особый «к...</td>\n",
       "      <td>event</td>\n",
       "      <td>{'lng': 37.62969155557252, 'lat': 55.751731257...</td>\n",
       "    </tr>\n",
       "    <tr>\n",
       "      <th>2385</th>\n",
       "      <td>2385</td>\n",
       "      <td>Ресторан KUZNYAHOUSE</td>\n",
       "      <td>&lt;p&gt;Ресторан в здании бывшей кузницы на Новой Г...</td>\n",
       "      <td>restaurant</td>\n",
       "      <td>NaN</td>\n",
       "    </tr>\n",
       "    <tr>\n",
       "      <th>3487</th>\n",
       "      <td>3487</td>\n",
       "      <td>Музей «Дом Бурганова»</td>\n",
       "      <td>&lt;p&gt;Музей посвящен творчеству Александра Бурган...</td>\n",
       "      <td>event</td>\n",
       "      <td>{'lng': 37.59719, 'lat': 55.746507}</td>\n",
       "    </tr>\n",
       "    <tr>\n",
       "      <th>4172</th>\n",
       "      <td>4172</td>\n",
       "      <td>Музей русской гармоники А. Мирека</td>\n",
       "      <td>&lt;p&gt;Перед вами оживет история конструкторской м...</td>\n",
       "      <td>event</td>\n",
       "      <td>{'lng': 37.59456379999999, 'lat': 55.7719669}</td>\n",
       "    </tr>\n",
       "  </tbody>\n",
       "</table>\n",
       "</div>"
      ],
      "text/plain": [
       "        id                                   titlte  \\\n",
       "0        0                       Ресторан «The Сад»   \n",
       "70      70                      Ресторан AQ Kitchen   \n",
       "261    261   Центр «Космонавтика и авиация» на ВДНХ   \n",
       "885    885                               Музей кино   \n",
       "1370  1370  Смотровая площадка «Выше только любовь»   \n",
       "2131  2131      Кафе «Спецбуфет особого назначения»   \n",
       "2223  2223                                Флорариум   \n",
       "2385  2385                     Ресторан KUZNYAHOUSE   \n",
       "3487  3487                    Музей «Дом Бурганова»   \n",
       "4172  4172        Музей русской гармоники А. Мирека   \n",
       "\n",
       "                                            description      screen  \\\n",
       "0     <p>Ресторан «The Сад» славится своей субтропич...  restaurant   \n",
       "70    <p>Авторский проект испанского шеф-повара Адри...  restaurant   \n",
       "261   <p>Павильон, в котором любил бывать Юрий Гагар...       event   \n",
       "885   <p>В Музее кино хранятся костюмы и реквизит из...       event   \n",
       "1370  <p>Находится на высоте 354 метров, обгоняя Ост...       event   \n",
       "2131  <p>Кафе располагается в «Гараже особого назнач...  restaurant   \n",
       "2223  <p>Оранжерейный комплекс парка — это особый «к...       event   \n",
       "2385  <p>Ресторан в здании бывшей кузницы на Новой Г...  restaurant   \n",
       "3487  <p>Музей посвящен творчеству Александра Бурган...       event   \n",
       "4172  <p>Перед вами оживет история конструкторской м...       event   \n",
       "\n",
       "                                            coordinates  \n",
       "0                                                   NaN  \n",
       "70                                                  NaN  \n",
       "261   {'lng': 37.62194444047548, 'lat': 55.835006175...  \n",
       "885       {'lng': 37.6167905, 'lat': 55.83964349999999}  \n",
       "1370             {'lng': 37.5343747, 'lat': 55.7499443}  \n",
       "2131                                                NaN  \n",
       "2223  {'lng': 37.62969155557252, 'lat': 55.751731257...  \n",
       "2385                                                NaN  \n",
       "3487                {'lng': 37.59719, 'lat': 55.746507}  \n",
       "4172      {'lng': 37.59456379999999, 'lat': 55.7719669}  "
      ]
     },
     "execution_count": 304,
     "metadata": {},
     "output_type": "execute_result"
    }
   ],
   "source": [
    "csr = matrix.tocsr()\n",
    "content_df[content_df.id.isin(model.recommend(2150, csr[2150])[0])]"
   ]
  },
  {
   "cell_type": "code",
   "execution_count": 297,
   "metadata": {},
   "outputs": [
    {
     "data": {
      "text/html": [
       "<div>\n",
       "<style scoped>\n",
       "    .dataframe tbody tr th:only-of-type {\n",
       "        vertical-align: middle;\n",
       "    }\n",
       "\n",
       "    .dataframe tbody tr th {\n",
       "        vertical-align: top;\n",
       "    }\n",
       "\n",
       "    .dataframe thead th {\n",
       "        text-align: right;\n",
       "    }\n",
       "</style>\n",
       "<table border=\"1\" class=\"dataframe\">\n",
       "  <thead>\n",
       "    <tr style=\"text-align: right;\">\n",
       "      <th></th>\n",
       "      <th>id</th>\n",
       "      <th>titlte</th>\n",
       "      <th>description</th>\n",
       "      <th>screen</th>\n",
       "      <th>coordinates</th>\n",
       "    </tr>\n",
       "  </thead>\n",
       "  <tbody>\n",
       "    <tr>\n",
       "      <th>20048</th>\n",
       "      <td>20048</td>\n",
       "      <td>Мастер-класс по созданию скетчбука</td>\n",
       "      <td>&lt;p&gt;Декор для альбома художника Вначале два опр...</td>\n",
       "      <td>excursion</td>\n",
       "      <td>NaN</td>\n",
       "    </tr>\n",
       "  </tbody>\n",
       "</table>\n",
       "</div>"
      ],
      "text/plain": [
       "          id                              titlte  \\\n",
       "20048  20048  Мастер-класс по созданию скетчбука   \n",
       "\n",
       "                                             description     screen  \\\n",
       "20048  <p>Декор для альбома художника Вначале два опр...  excursion   \n",
       "\n",
       "      coordinates  \n",
       "20048         NaN  "
      ]
     },
     "execution_count": 297,
     "metadata": {},
     "output_type": "execute_result"
    }
   ],
   "source": [
    "content_df[content_df.id==20048]"
   ]
  },
  {
   "cell_type": "code",
   "execution_count": 305,
   "metadata": {},
   "outputs": [],
   "source": [
    "import pickle\n",
    "\n",
    "with open('./models/generate/relations/model.pickle', 'wb') as file:\n",
    "    pickle.dump(model, file)"
   ]
  },
  {
   "cell_type": "code",
   "execution_count": 306,
   "metadata": {},
   "outputs": [],
   "source": [
    "with open('./models/generate/relations/dataset.pickle', 'wb') as file:\n",
    "    pickle.dump(df, file)"
   ]
  },
  {
   "cell_type": "code",
   "execution_count": 307,
   "metadata": {},
   "outputs": [],
   "source": [
    "with open('./models/generate/relations/item_to_id.pickle', 'wb') as file:\n",
    "    pickle.dump(item_to_id, file)"
   ]
  },
  {
   "cell_type": "code",
   "execution_count": 308,
   "metadata": {},
   "outputs": [],
   "source": [
    "with open('./models/generate/relations/user_to_id.pickle', 'wb') as file:\n",
    "    pickle.dump(user_to_id, file)"
   ]
  },
  {
   "cell_type": "code",
   "execution_count": null,
   "metadata": {},
   "outputs": [],
   "source": [
    "with open('./models/generate/relations/csr.pickle', 'wb') as file:\n",
    "    pickle.dump(csr, file)"
   ]
  }
 ],
 "metadata": {
  "kernelspec": {
   "display_name": "Python 3",
   "language": "python",
   "name": "python3"
  },
  "language_info": {
   "codemirror_mode": {
    "name": "ipython",
    "version": 3
   },
   "file_extension": ".py",
   "mimetype": "text/x-python",
   "name": "python",
   "nbconvert_exporter": "python",
   "pygments_lexer": "ipython3",
   "version": "3.11.5"
  }
 },
 "nbformat": 4,
 "nbformat_minor": 2
}
